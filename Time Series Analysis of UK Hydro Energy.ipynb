{
 "cells": [
  {
   "cell_type": "markdown",
   "id": "96a90b04",
   "metadata": {},
   "source": [
    "#### Libraries"
   ]
  },
  {
   "cell_type": "code",
   "execution_count": 1,
   "id": "3e66a550",
   "metadata": {},
   "outputs": [],
   "source": [
    "import pandas as pd\n",
    "import numpy as np\n",
    "from datetime import datetime\n",
    "from matplotlib import pyplot as plt\n",
    "from statsmodels.tsa.seasonal import STL\n",
    "import statsmodels.tsa.holtwinters as hw\n",
    "import pmdarima as pm\n",
    "from statsmodels.tsa.statespace.sarimax import SARIMAX\n",
    "from statsmodels.tsa.statespace.sarimax import SARIMAXResults\n",
    "from statsmodels.graphics.tsaplots import plot_acf\n",
    "from statsmodels.graphics.tsaplots import plot_pacf\n",
    "from pmdarima.arima.utils import ndiffs, nsdiffs\n",
    "from sklearn.neural_network import MLPRegressor"
   ]
  },
  {
   "cell_type": "markdown",
   "id": "f5daf2ec",
   "metadata": {},
   "source": [
    "#### Import Data"
   ]
  },
  {
   "cell_type": "code",
   "execution_count": 2,
   "id": "5d1efb85",
   "metadata": {},
   "outputs": [
    {
     "name": "stdout",
     "output_type": "stream",
     "text": [
      "<class 'pandas.core.frame.DataFrame'>\n",
      "RangeIndex: 184 entries, 0 to 183\n",
      "Data columns (total 2 columns):\n",
      " #   Column        Non-Null Count  Dtype  \n",
      "---  ------        --------------  -----  \n",
      " 0   Date          184 non-null    object \n",
      " 1   Hydro_energy  184 non-null    float64\n",
      "dtypes: float64(1), object(1)\n",
      "memory usage: 3.0+ KB\n"
     ]
    }
   ],
   "source": [
    "uk = pd.read_csv(\"C:/Users/erikc/Desktop/UK.csv\")\n",
    "uk2 = pd.read_csv(\"C:/Users/erikc/Desktop/UK.csv\")\n",
    "uk.info()"
   ]
  },
  {
   "cell_type": "markdown",
   "id": "57c7e881",
   "metadata": {},
   "source": [
    "#### Format date into something Python prefers"
   ]
  },
  {
   "cell_type": "code",
   "execution_count": 3,
   "id": "30b2ca59",
   "metadata": {},
   "outputs": [
    {
     "name": "stdout",
     "output_type": "stream",
     "text": [
      "<class 'pandas.core.frame.DataFrame'>\n",
      "RangeIndex: 184 entries, 0 to 183\n",
      "Data columns (total 2 columns):\n",
      " #   Column        Non-Null Count  Dtype         \n",
      "---  ------        --------------  -----         \n",
      " 0   Date          184 non-null    datetime64[ns]\n",
      " 1   Hydro_energy  184 non-null    float64       \n",
      "dtypes: datetime64[ns](1), float64(1)\n",
      "memory usage: 3.0 KB\n"
     ]
    }
   ],
   "source": [
    "uk['Date'] = pd.to_datetime(uk['Date'], format = '%b-%y')\n",
    "\n",
    "uk.info()"
   ]
  },
  {
   "cell_type": "markdown",
   "id": "06cbd380",
   "metadata": {},
   "source": [
    "#### Create splits for data as well as rolled up data for tuning models"
   ]
  },
  {
   "cell_type": "code",
   "execution_count": 4,
   "id": "f9f56928",
   "metadata": {},
   "outputs": [
    {
     "name": "stdout",
     "output_type": "stream",
     "text": [
      "<class 'pandas.core.frame.DataFrame'>\n",
      "RangeIndex: 184 entries, 0 to 183\n",
      "Data columns (total 2 columns):\n",
      " #   Column        Non-Null Count  Dtype         \n",
      "---  ------        --------------  -----         \n",
      " 0   Date          184 non-null    datetime64[ns]\n",
      " 1   Hydro_energy  184 non-null    float64       \n",
      "dtypes: datetime64[ns](1), float64(1)\n",
      "memory usage: 3.0 KB\n",
      "None\n",
      "          Date  Hydro_energy\n",
      "179 2020-12-01       870.056\n",
      "180 2021-01-01       773.333\n",
      "181 2021-02-01       685.153\n",
      "182 2021-03-01       792.451\n",
      "183 2021-04-01       691.213\n"
     ]
    }
   ],
   "source": [
    "print(uk.info())\n",
    "uk_train = uk[0:167]\n",
    "uk_valid = uk[167:180]\n",
    "uk_tv = uk[0:180]\n",
    "uk_test = uk[179:184]\n",
    "\n",
    "print(uk_test.head())"
   ]
  },
  {
   "cell_type": "markdown",
   "id": "080d17b7",
   "metadata": {},
   "source": [
    "#### Pull month out of date for use later with SARIMAX"
   ]
  },
  {
   "cell_type": "code",
   "execution_count": 5,
   "id": "6a371dec",
   "metadata": {},
   "outputs": [
    {
     "name": "stderr",
     "output_type": "stream",
     "text": [
      "C:\\Users\\erikc\\AppData\\Local\\Temp/ipykernel_60964/2831598124.py:1: SettingWithCopyWarning: \n",
      "A value is trying to be set on a copy of a slice from a DataFrame.\n",
      "Try using .loc[row_indexer,col_indexer] = value instead\n",
      "\n",
      "See the caveats in the documentation: https://pandas.pydata.org/pandas-docs/stable/user_guide/indexing.html#returning-a-view-versus-a-copy\n",
      "  uk_train['Month'] = uk_train['Date'].dt.strftime('%b')\n",
      "C:\\Users\\erikc\\AppData\\Local\\Temp/ipykernel_60964/2831598124.py:3: SettingWithCopyWarning: \n",
      "A value is trying to be set on a copy of a slice from a DataFrame.\n",
      "Try using .loc[row_indexer,col_indexer] = value instead\n",
      "\n",
      "See the caveats in the documentation: https://pandas.pydata.org/pandas-docs/stable/user_guide/indexing.html#returning-a-view-versus-a-copy\n",
      "  uk_valid['Month'] = uk_valid['Date'].dt.strftime('%b')\n",
      "C:\\Users\\erikc\\AppData\\Local\\Temp/ipykernel_60964/2831598124.py:5: SettingWithCopyWarning: \n",
      "A value is trying to be set on a copy of a slice from a DataFrame.\n",
      "Try using .loc[row_indexer,col_indexer] = value instead\n",
      "\n",
      "See the caveats in the documentation: https://pandas.pydata.org/pandas-docs/stable/user_guide/indexing.html#returning-a-view-versus-a-copy\n",
      "  uk_tv['Month'] = uk_tv['Date'].dt.strftime('%b')\n",
      "C:\\Users\\erikc\\AppData\\Local\\Temp/ipykernel_60964/2831598124.py:7: SettingWithCopyWarning: \n",
      "A value is trying to be set on a copy of a slice from a DataFrame.\n",
      "Try using .loc[row_indexer,col_indexer] = value instead\n",
      "\n",
      "See the caveats in the documentation: https://pandas.pydata.org/pandas-docs/stable/user_guide/indexing.html#returning-a-view-versus-a-copy\n",
      "  uk_test['Month'] = uk_test['Date'].dt.strftime('%b')\n"
     ]
    }
   ],
   "source": [
    "uk_train['Month'] = uk_train['Date'].dt.strftime('%b')\n",
    "\n",
    "uk_valid['Month'] = uk_valid['Date'].dt.strftime('%b')\n",
    "\n",
    "uk_tv['Month'] = uk_tv['Date'].dt.strftime('%b')\n",
    "\n",
    "uk_test['Month'] = uk_test['Date'].dt.strftime('%b')\n",
    "\n",
    "uk['Month'] = uk['Date'].dt.strftime('%b')"
   ]
  },
  {
   "cell_type": "markdown",
   "id": "68d1d0dd",
   "metadata": {},
   "source": [
    "#### Set the index for time series use"
   ]
  },
  {
   "cell_type": "code",
   "execution_count": 6,
   "id": "e024f068",
   "metadata": {},
   "outputs": [],
   "source": [
    "uk_train.set_index('Date', inplace=True)\n",
    "\n",
    "uk_valid.set_index('Date', inplace=True)\n",
    "\n",
    "uk_tv.set_index('Date', inplace=True)\n",
    "\n",
    "uk_test.set_index('Date', inplace=True)"
   ]
  },
  {
   "cell_type": "markdown",
   "id": "fa036199",
   "metadata": {},
   "source": [
    "#### Always plot your time series"
   ]
  },
  {
   "cell_type": "code",
   "execution_count": 7,
   "id": "0af19349",
   "metadata": {},
   "outputs": [
    {
     "data": {
      "text/plain": [
       "<AxesSubplot:title={'center':'Hydroelectric Energy Usage in the UK'}>"
      ]
     },
     "execution_count": 7,
     "metadata": {},
     "output_type": "execute_result"
    },
    {
     "data": {
      "image/png": "[encoded data removed]",
      "text/plain": [
       "<Figure size 432x288 with 1 Axes>"
      ]
     },
     "metadata": {
      "needs_background": "light"
     },
     "output_type": "display_data"
    }
   ],
   "source": [
    "uk['Hydro_energy'].plot(title='Hydroelectric Energy Usage in the UK')"
   ]
  },
  {
   "cell_type": "markdown",
   "id": "3e58fbb4",
   "metadata": {},
   "source": [
    "#### Decompose because it's good practice to get into"
   ]
  },
  {
   "cell_type": "code",
   "execution_count": 8,
   "id": "6d25d9f9",
   "metadata": {},
   "outputs": [
    {
     "data": {
      "image/png": "[encoded data removed]",
      "text/plain": [
       "<Figure size 432x288 with 4 Axes>"
      ]
     },
     "execution_count": 8,
     "metadata": {},
     "output_type": "execute_result"
    },
    {
     "data": {
      "image/png": "[encoded data removed]",
      "text/plain": [
       "<Figure size 432x288 with 4 Axes>"
      ]
     },
     "metadata": {
      "needs_background": "light"
     },
     "output_type": "display_data"
    }
   ],
   "source": [
    "decompose_result = STL(uk_train['Hydro_energy'], seasonal = 13).fit()\n",
    "\n",
    "decompose_result.plot()"
   ]
  },
  {
   "cell_type": "markdown",
   "id": "6ed8eaf0",
   "metadata": {},
   "source": [
    "#### Holt-Winters Additive"
   ]
  },
  {
   "cell_type": "markdown",
   "id": "15562b89",
   "metadata": {},
   "source": [
    "#### Start with an additive Holt-Winters model, get MAE and MAPE on validation data. Forecast will be used later for simple average forecast"
   ]
  },
  {
   "cell_type": "code",
   "execution_count": 9,
   "id": "b5766027",
   "metadata": {},
   "outputs": [
    {
     "name": "stderr",
     "output_type": "stream",
     "text": [
      "C:\\Users\\erikc\\Anaconda3\\lib\\site-packages\\statsmodels\\tsa\\base\\tsa_model.py:524: ValueWarning: No frequency information was provided, so inferred frequency MS will be used.\n",
      "  warnings.warn('No frequency information was'\n"
     ]
    },
    {
     "name": "stdout",
     "output_type": "stream",
     "text": [
      "                       ExponentialSmoothing Model Results                       \n",
      "================================================================================\n",
      "Dep. Variable:             Hydro_energy   No. Observations:                  167\n",
      "Model:             ExponentialSmoothing   SSE                        2775002.886\n",
      "Optimized:                         True   AIC                           1650.934\n",
      "Trend:                             None   BIC                           1694.586\n",
      "Seasonal:                      Additive   AICC                          1654.561\n",
      "Seasonal Periods:                    12   Date:                 Thu, 02 Dec 2021\n",
      "Box-Cox:                          False   Time:                         16:19:34\n",
      "Box-Cox Coeff.:                    None                                         \n",
      "=================================================================================\n",
      "                          coeff                 code              optimized      \n",
      "---------------------------------------------------------------------------------\n",
      "smoothing_level               0.6022250                alpha                 True\n",
      "smoothing_seasonal            0.0149931                gamma                 True\n",
      "initial_level                 699.58521                  l.0                 True\n",
      "initial_seasons.0             214.09749                  s.0                 True\n",
      "initial_seasons.1             75.346824                  s.1                 True\n",
      "initial_seasons.2             92.449235                  s.2                 True\n",
      "initial_seasons.3            -75.328982                  s.3                 True\n",
      "initial_seasons.4            -144.62251                  s.4                 True\n",
      "initial_seasons.5            -233.77787                  s.5                 True\n",
      "initial_seasons.6            -194.51541                  s.6                 True\n",
      "initial_seasons.7            -109.60769                  s.7                 True\n",
      "initial_seasons.8            -47.590159                  s.8                 True\n",
      "initial_seasons.9             63.663170                  s.9                 True\n",
      "initial_seasons.10            138.22633                 s.10                 True\n",
      "initial_seasons.11            216.62595                 s.11                 True\n",
      "---------------------------------------------------------------------------------\n"
     ]
    }
   ],
   "source": [
    "hwes = hw.ExponentialSmoothing(uk_train['Hydro_energy'], seasonal='additive', seasonal_periods=12, initialization_method='estimated').fit()\n",
    "print(hwes.summary())"
   ]
  },
  {
   "cell_type": "markdown",
   "id": "b72bfd87",
   "metadata": {},
   "source": [
    "#### Run same model on rolled up data to tune it to forecast onto test data"
   ]
  },
  {
   "cell_type": "code",
   "execution_count": 10,
   "id": "98ee7c08",
   "metadata": {},
   "outputs": [
    {
     "name": "stdout",
     "output_type": "stream",
     "text": [
      "                       ExponentialSmoothing Model Results                       \n",
      "================================================================================\n",
      "Dep. Variable:             Hydro_energy   No. Observations:                  167\n",
      "Model:             ExponentialSmoothing   SSE                        2775002.886\n",
      "Optimized:                         True   AIC                           1650.934\n",
      "Trend:                             None   BIC                           1694.586\n",
      "Seasonal:                      Additive   AICC                          1654.561\n",
      "Seasonal Periods:                    12   Date:                 Thu, 02 Dec 2021\n",
      "Box-Cox:                          False   Time:                         16:19:34\n",
      "Box-Cox Coeff.:                    None                                         \n",
      "=================================================================================\n",
      "                          coeff                 code              optimized      \n",
      "---------------------------------------------------------------------------------\n",
      "smoothing_level               0.6022250                alpha                 True\n",
      "smoothing_seasonal            0.0149931                gamma                 True\n",
      "initial_level                 699.58521                  l.0                 True\n",
      "initial_seasons.0             214.09749                  s.0                 True\n",
      "initial_seasons.1             75.346824                  s.1                 True\n",
      "initial_seasons.2             92.449235                  s.2                 True\n",
      "initial_seasons.3            -75.328982                  s.3                 True\n",
      "initial_seasons.4            -144.62251                  s.4                 True\n",
      "initial_seasons.5            -233.77787                  s.5                 True\n",
      "initial_seasons.6            -194.51541                  s.6                 True\n",
      "initial_seasons.7            -109.60769                  s.7                 True\n",
      "initial_seasons.8            -47.590159                  s.8                 True\n",
      "initial_seasons.9             63.663170                  s.9                 True\n",
      "initial_seasons.10            138.22633                 s.10                 True\n",
      "initial_seasons.11            216.62595                 s.11                 True\n",
      "---------------------------------------------------------------------------------\n"
     ]
    },
    {
     "name": "stderr",
     "output_type": "stream",
     "text": [
      "C:\\Users\\erikc\\Anaconda3\\lib\\site-packages\\statsmodels\\tsa\\base\\tsa_model.py:524: ValueWarning: No frequency information was provided, so inferred frequency MS will be used.\n",
      "  warnings.warn('No frequency information was'\n"
     ]
    }
   ],
   "source": [
    "hwes_tv = hw.ExponentialSmoothing(uk_tv['Hydro_energy'], seasonal='additive', seasonal_periods=12, initialization_method='estimated').fit()\n",
    "print(hwes.summary())"
   ]
  },
  {
   "cell_type": "code",
   "execution_count": 11,
   "id": "3c754bf4",
   "metadata": {},
   "outputs": [
    {
     "name": "stdout",
     "output_type": "stream",
     "text": [
      "                       ExponentialSmoothing Model Results                       \n",
      "================================================================================\n",
      "Dep. Variable:             Hydro_energy   No. Observations:                  167\n",
      "Model:             ExponentialSmoothing   SSE                        2775002.886\n",
      "Optimized:                         True   AIC                           1650.934\n",
      "Trend:                             None   BIC                           1694.586\n",
      "Seasonal:                      Additive   AICC                          1654.561\n",
      "Seasonal Periods:                    12   Date:                 Thu, 02 Dec 2021\n",
      "Box-Cox:                          False   Time:                         16:19:34\n",
      "Box-Cox Coeff.:                    None                                         \n",
      "=================================================================================\n",
      "                          coeff                 code              optimized      \n",
      "---------------------------------------------------------------------------------\n",
      "smoothing_level               0.6022250                alpha                 True\n",
      "smoothing_seasonal            0.0149931                gamma                 True\n",
      "initial_level                 699.58521                  l.0                 True\n",
      "initial_seasons.0             214.09749                  s.0                 True\n",
      "initial_seasons.1             75.346824                  s.1                 True\n",
      "initial_seasons.2             92.449235                  s.2                 True\n",
      "initial_seasons.3            -75.328982                  s.3                 True\n",
      "initial_seasons.4            -144.62251                  s.4                 True\n",
      "initial_seasons.5            -233.77787                  s.5                 True\n",
      "initial_seasons.6            -194.51541                  s.6                 True\n",
      "initial_seasons.7            -109.60769                  s.7                 True\n",
      "initial_seasons.8            -47.590159                  s.8                 True\n",
      "initial_seasons.9             63.663170                  s.9                 True\n",
      "initial_seasons.10            138.22633                 s.10                 True\n",
      "initial_seasons.11            216.62595                 s.11                 True\n",
      "---------------------------------------------------------------------------------\n"
     ]
    }
   ],
   "source": [
    "hwes_full = hw.ExponentialSmoothing(uk['Hydro_energy'], seasonal='additive', seasonal_periods=12, initialization_method='estimated').fit()\n",
    "print(hwes.summary())"
   ]
  },
  {
   "cell_type": "markdown",
   "id": "84e1a15c",
   "metadata": {},
   "source": [
    "#### Get forecasts from above models"
   ]
  },
  {
   "cell_type": "code",
   "execution_count": 12,
   "id": "313a60ba",
   "metadata": {},
   "outputs": [
    {
     "name": "stdout",
     "output_type": "stream",
     "text": [
      "2019-12-01    769.689139\n",
      "2020-01-01    767.153865\n",
      "2020-02-01    627.279457\n",
      "2020-03-01    643.434266\n",
      "2020-04-01    473.594561\n",
      "2020-05-01    404.588993\n",
      "2020-06-01    316.125444\n",
      "2020-07-01    354.367901\n",
      "2020-08-01    439.147570\n",
      "2020-09-01    501.851018\n",
      "2020-10-01    614.048444\n",
      "2020-11-01    694.460163\n",
      "2020-12-01    769.689139\n",
      "Freq: MS, dtype: float64\n"
     ]
    }
   ],
   "source": [
    "y_hat_HWES = hwes.forecast(steps = 13)\n",
    "print(y_hat_HWES)"
   ]
  },
  {
   "cell_type": "code",
   "execution_count": 13,
   "id": "d2f2b432",
   "metadata": {},
   "outputs": [
    {
     "name": "stdout",
     "output_type": "stream",
     "text": [
      "2021-01-01    883.758877\n",
      "2021-02-01    756.620479\n",
      "2021-03-01    762.380999\n",
      "2021-04-01    574.884689\n",
      "2021-05-01    507.587534\n",
      "Freq: MS, dtype: float64\n"
     ]
    }
   ],
   "source": [
    "y_hat_HWES_tv = hwes_tv.forecast(steps=5)\n",
    "print(y_hat_HWES_tv)"
   ]
  },
  {
   "cell_type": "code",
   "execution_count": 14,
   "id": "2ae9e720",
   "metadata": {},
   "outputs": [
    {
     "name": "stdout",
     "output_type": "stream",
     "text": [
      "184    565.200832\n",
      "185    479.700649\n",
      "186    517.793970\n",
      "187    577.800589\n",
      "188    640.593847\n",
      "189    759.954086\n",
      "dtype: float64\n"
     ]
    }
   ],
   "source": [
    "y_hat_HWES_full = hwes_full.forecast(steps=6)\n",
    "print(y_hat_HWES_full)"
   ]
  },
  {
   "cell_type": "markdown",
   "id": "a99df5aa",
   "metadata": {},
   "source": [
    "#### SARIMAX"
   ]
  },
  {
   "cell_type": "markdown",
   "id": "181fd906",
   "metadata": {},
   "source": [
    "#### Create dummies for SARIMAX"
   ]
  },
  {
   "cell_type": "code",
   "execution_count": 15,
   "id": "b8b5e48a",
   "metadata": {},
   "outputs": [
    {
     "name": "stderr",
     "output_type": "stream",
     "text": [
      "C:\\Users\\erikc\\Anaconda3\\lib\\site-packages\\pandas\\core\\indexing.py:1599: SettingWithCopyWarning: \n",
      "A value is trying to be set on a copy of a slice from a DataFrame.\n",
      "Try using .loc[row_indexer,col_indexer] = value instead\n",
      "\n",
      "See the caveats in the documentation: https://pandas.pydata.org/pandas-docs/stable/user_guide/indexing.html#returning-a-view-versus-a-copy\n",
      "  self.obj[key] = infer_fill_value(value)\n",
      "C:\\Users\\erikc\\Anaconda3\\lib\\site-packages\\pandas\\core\\indexing.py:1720: SettingWithCopyWarning: \n",
      "A value is trying to be set on a copy of a slice from a DataFrame.\n",
      "Try using .loc[row_indexer,col_indexer] = value instead\n",
      "\n",
      "See the caveats in the documentation: https://pandas.pydata.org/pandas-docs/stable/user_guide/indexing.html#returning-a-view-versus-a-copy\n",
      "  self._setitem_single_column(loc, value, pi)\n"
     ]
    }
   ],
   "source": [
    "#Train\n",
    "#January\n",
    "uk_train.loc[uk_train['Month'] == 'Jan', 'Jan'] = 1\n",
    "uk_train.loc[uk_train['Month'] != 'Jan', 'Jan'] = 0\n",
    "\n",
    "#February\n",
    "uk_train.loc[uk_train['Month'] == 'Feb', 'Feb'] = 1\n",
    "uk_train.loc[uk_train['Month'] != 'Feb', 'Feb'] = 0\n",
    "\n",
    "#March\n",
    "uk_train.loc[uk_train['Month'] == 'Mar', 'Mar'] = 1\n",
    "uk_train.loc[uk_train['Month'] != 'Mar', 'Mar'] = 0\n",
    "\n",
    "#April\n",
    "uk_train.loc[uk_train['Month'] == 'Apr', 'Apr'] = 1\n",
    "uk_train.loc[uk_train['Month'] != 'Apr', 'Apr'] = 0\n",
    "\n",
    "#May\n",
    "uk_train.loc[uk_train['Month'] == 'May', 'May'] = 1\n",
    "uk_train.loc[uk_train['Month'] != 'May', 'May'] = 0\n",
    "\n",
    "#June\n",
    "uk_train.loc[uk_train['Month'] == 'Jun', 'Jun'] = 1\n",
    "uk_train.loc[uk_train['Month'] != 'Jun', 'Jun'] = 0\n",
    "\n",
    "#July\n",
    "uk_train.loc[uk_train['Month'] == 'Jul', 'Jul'] = 1\n",
    "uk_train.loc[uk_train['Month'] != 'Jul', 'Jul'] = 0\n",
    "\n",
    "#August\n",
    "uk_train.loc[uk_train['Month'] == 'Aug', 'Aug'] = 1\n",
    "uk_train.loc[uk_train['Month'] != 'Aug', 'Aug'] = 0\n",
    "\n",
    "#September\n",
    "uk_train.loc[uk_train['Month'] == 'Sep', 'Sep'] = 1\n",
    "uk_train.loc[uk_train['Month'] != 'Sep', 'Sep'] = 0\n",
    "\n",
    "#October\n",
    "uk_train.loc[uk_train['Month'] == 'Oct', 'Oct'] = 1\n",
    "uk_train.loc[uk_train['Month'] != 'Oct', 'Oct'] = 0\n",
    "\n",
    "#November\n",
    "uk_train.loc[uk_train['Month'] == 'Nov', 'Nov'] = 1\n",
    "uk_train.loc[uk_train['Month'] != 'Nov', 'Nov'] = 0\n",
    "\n",
    "#December\n",
    "uk_train.loc[uk_train['Month'] == 'Dec', 'Dec'] = 1\n",
    "uk_train.loc[uk_train['Month'] != 'Dec', 'Dec'] = 0\n",
    "\n",
    "#Train/Validate Roll Up\n",
    "#January\n",
    "uk_tv.loc[uk_tv['Month'] == 'Jan', 'Jan'] = 1\n",
    "uk_tv.loc[uk_tv['Month'] != 'Jan', 'Jan'] = 0\n",
    "\n",
    "#February\n",
    "uk_tv.loc[uk_tv['Month'] == 'Feb', 'Feb'] = 1\n",
    "uk_tv.loc[uk_tv['Month'] != 'Feb', 'Feb'] = 0\n",
    "\n",
    "#March\n",
    "uk_tv.loc[uk_tv['Month'] == 'Mar', 'Mar'] = 1\n",
    "uk_tv.loc[uk_tv['Month'] != 'Mar', 'Mar'] = 0\n",
    "\n",
    "#April\n",
    "uk_tv.loc[uk_tv['Month'] == 'Apr', 'Apr'] = 1\n",
    "uk_tv.loc[uk_tv['Month'] != 'Apr', 'Apr'] = 0\n",
    "\n",
    "#May\n",
    "uk_tv.loc[uk_tv['Month'] == 'May', 'May'] = 1\n",
    "uk_tv.loc[uk_tv['Month'] != 'May', 'May'] = 0\n",
    "\n",
    "#June\n",
    "uk_tv.loc[uk_tv['Month'] == 'Jun', 'Jun'] = 1\n",
    "uk_tv.loc[uk_tv['Month'] != 'Jun', 'Jun'] = 0\n",
    "\n",
    "#July\n",
    "uk_tv.loc[uk_tv['Month'] == 'Jul', 'Jul'] = 1\n",
    "uk_tv.loc[uk_tv['Month'] != 'Jul', 'Jul'] = 0\n",
    "\n",
    "#August\n",
    "uk_tv.loc[uk_tv['Month'] == 'Aug', 'Aug'] = 1\n",
    "uk_tv.loc[uk_tv['Month'] != 'Aug', 'Aug'] = 0\n",
    "\n",
    "#September\n",
    "uk_tv.loc[uk_tv['Month'] == 'Sep', 'Sep'] = 1\n",
    "uk_tv.loc[uk_tv['Month'] != 'Sep', 'Sep'] = 0\n",
    "\n",
    "#October\n",
    "uk_tv.loc[uk_tv['Month'] == 'Oct', 'Oct'] = 1\n",
    "uk_tv.loc[uk_tv['Month'] != 'Oct', 'Oct'] = 0\n",
    "\n",
    "#November\n",
    "uk_tv.loc[uk_tv['Month'] == 'Nov', 'Nov'] = 1\n",
    "uk_tv.loc[uk_tv['Month'] != 'Nov', 'Nov'] = 0\n",
    "\n",
    "#December\n",
    "uk_tv.loc[uk_tv['Month'] == 'Dec', 'Dec'] = 1\n",
    "uk_tv.loc[uk_tv['Month'] != 'Dec', 'Dec'] = 0\n",
    "\n",
    "#Full Roll Up\n",
    "#January\n",
    "uk.loc[uk['Month'] == 'Jan', 'Jan'] = 1\n",
    "uk.loc[uk['Month'] != 'Jan', 'Jan'] = 0\n",
    "\n",
    "#February\n",
    "uk.loc[uk['Month'] == 'Feb', 'Feb'] = 1\n",
    "uk.loc[uk['Month'] != 'Feb', 'Feb'] = 0\n",
    "\n",
    "#March\n",
    "uk.loc[uk['Month'] == 'Mar', 'Mar'] = 1\n",
    "uk.loc[uk['Month'] != 'Mar', 'Mar'] = 0\n",
    "\n",
    "#April\n",
    "uk.loc[uk['Month'] == 'Apr', 'Apr'] = 1\n",
    "uk.loc[uk['Month'] != 'Apr', 'Apr'] = 0\n",
    "\n",
    "#May\n",
    "uk.loc[uk['Month'] == 'May', 'May'] = 1\n",
    "uk.loc[uk['Month'] != 'May', 'May'] = 0\n",
    "\n",
    "#June\n",
    "uk.loc[uk['Month'] == 'Jun', 'Jun'] = 1\n",
    "uk.loc[uk['Month'] != 'Jun', 'Jun'] = 0\n",
    "\n",
    "#July\n",
    "uk.loc[uk['Month'] == 'Jul', 'Jul'] = 1\n",
    "uk.loc[uk['Month'] != 'Jul', 'Jul'] = 0\n",
    "\n",
    "#August\n",
    "uk.loc[uk['Month'] == 'Aug', 'Aug'] = 1\n",
    "uk.loc[uk['Month'] != 'Aug', 'Aug'] = 0\n",
    "\n",
    "#September\n",
    "uk.loc[uk['Month'] == 'Sep', 'Sep'] = 1\n",
    "uk.loc[uk['Month'] != 'Sep', 'Sep'] = 0\n",
    "\n",
    "#October\n",
    "uk.loc[uk['Month'] == 'Oct', 'Oct'] = 1\n",
    "uk.loc[uk['Month'] != 'Oct', 'Oct'] = 0\n",
    "\n",
    "#November\n",
    "uk.loc[uk['Month'] == 'Nov', 'Nov'] = 1\n",
    "uk.loc[uk['Month'] != 'Nov', 'Nov'] = 0\n",
    "\n",
    "#December\n",
    "uk.loc[uk['Month'] == 'Dec', 'Dec'] = 1\n",
    "uk.loc[uk['Month'] != 'Dec', 'Dec'] = 0"
   ]
  },
  {
   "cell_type": "markdown",
   "id": "42cb7881",
   "metadata": {},
   "source": [
    "#### Run auto_arima for p,d,q and P,D,Q terms"
   ]
  },
  {
   "cell_type": "code",
   "execution_count": 16,
   "id": "1a3bda36",
   "metadata": {},
   "outputs": [
    {
     "data": {
      "text/plain": [
       "ARIMA(order=(1, 0, 0), scoring_args={}, seasonal_order=(2, 0, 0, 12),\n",
       "      suppress_warnings=True)"
      ]
     },
     "execution_count": 16,
     "metadata": {},
     "output_type": "execute_result"
    }
   ],
   "source": [
    "pm.auto_arima(uk['Hydro_energy'], m=12, information_criterion='bic', seasonal_test='ch')"
   ]
  },
  {
   "cell_type": "markdown",
   "id": "e96173d8",
   "metadata": {},
   "source": [
    "#### Run SARIMAX with exogenous dummy variables"
   ]
  },
  {
   "cell_type": "code",
   "execution_count": 17,
   "id": "9bd94b74",
   "metadata": {},
   "outputs": [
    {
     "name": "stderr",
     "output_type": "stream",
     "text": [
      "C:\\Users\\erikc\\Anaconda3\\lib\\site-packages\\statsmodels\\tsa\\base\\tsa_model.py:524: ValueWarning: No frequency information was provided, so inferred frequency MS will be used.\n",
      "  warnings.warn('No frequency information was'\n",
      "C:\\Users\\erikc\\Anaconda3\\lib\\site-packages\\statsmodels\\tsa\\base\\tsa_model.py:524: ValueWarning: No frequency information was provided, so inferred frequency MS will be used.\n",
      "  warnings.warn('No frequency information was'\n"
     ]
    },
    {
     "name": "stdout",
     "output_type": "stream",
     "text": [
      "                                     SARIMAX Results                                      \n",
      "==========================================================================================\n",
      "Dep. Variable:                       Hydro_energy   No. Observations:                  167\n",
      "Model:             SARIMAX(1, 0, 0)x(2, 0, 0, 12)   Log Likelihood               -1027.855\n",
      "Date:                            Thu, 02 Dec 2021   AIC                           2087.709\n",
      "Time:                                    16:19:40   BIC                           2137.597\n",
      "Sample:                                01-01-2006   HQIC                          2107.957\n",
      "                                     - 11-01-2019                                         \n",
      "Covariance Type:                              opg                                         \n",
      "==============================================================================\n",
      "                 coef    std err          z      P>|z|      [0.025      0.975]\n",
      "------------------------------------------------------------------------------\n",
      "Jan          922.9667     31.288     29.499      0.000     861.644     984.289\n",
      "Feb          781.5942     42.705     18.302      0.000     697.894     865.294\n",
      "Mar          798.6591     32.200     24.803      0.000     735.549     861.769\n",
      "Apr          622.9649     35.264     17.666      0.000     553.849     692.080\n",
      "May          551.1038     37.328     14.764      0.000     477.942     624.265\n",
      "Jun          456.9798     45.988      9.937      0.000     366.845     547.114\n",
      "Jul          490.9574     42.674     11.505      0.000     407.317     574.598\n",
      "Aug          567.5061     53.733     10.562      0.000     462.191     672.821\n",
      "Sep          628.8868     40.327     15.595      0.000     549.847     707.927\n",
      "Oct          739.1526     40.498     18.252      0.000     659.778     818.527\n",
      "Nov          823.4253     33.422     24.638      0.000     757.920     888.930\n",
      "Dec          907.2850     30.106     30.137      0.000     848.279     966.291\n",
      "ar.L1          0.5093      0.067      7.604      0.000       0.378       0.641\n",
      "ar.S.L12      -0.0592      0.085     -0.698      0.485      -0.226       0.107\n",
      "ar.S.L24       0.0275      0.099      0.278      0.781      -0.166       0.221\n",
      "sigma2      1.296e+04   1521.897      8.516      0.000    9978.261    1.59e+04\n",
      "===================================================================================\n",
      "Ljung-Box (L1) (Q):                   0.30   Jarque-Bera (JB):                12.19\n",
      "Prob(Q):                              0.58   Prob(JB):                         0.00\n",
      "Heteroskedasticity (H):               1.64   Skew:                            -0.57\n",
      "Prob(H) (two-sided):                  0.07   Kurtosis:                         3.66\n",
      "===================================================================================\n",
      "\n",
      "Warnings:\n",
      "[1] Covariance matrix calculated using the outer product of gradients (complex-step).\n"
     ]
    }
   ],
   "source": [
    "endog = uk_train[['Hydro_energy']]\n",
    "exog = uk_train[['Jan', 'Feb', 'Mar', 'Apr', 'May', 'Jun', 'Jul', 'Aug', 'Sep', 'Oct', 'Nov', 'Dec']]\n",
    "\n",
    "sarimax = SARIMAX(endog, exog, order = (1, 0, 0), seasonal_order = (2, 0, 0, 12), m=12).fit()\n",
    "print(sarimax.summary())"
   ]
  },
  {
   "cell_type": "markdown",
   "id": "87ba2d37",
   "metadata": {},
   "source": [
    "#### Run SARIMAX on rolled up data"
   ]
  },
  {
   "cell_type": "code",
   "execution_count": 18,
   "id": "0f44287e",
   "metadata": {},
   "outputs": [
    {
     "name": "stderr",
     "output_type": "stream",
     "text": [
      "C:\\Users\\erikc\\Anaconda3\\lib\\site-packages\\statsmodels\\tsa\\base\\tsa_model.py:524: ValueWarning: No frequency information was provided, so inferred frequency MS will be used.\n",
      "  warnings.warn('No frequency information was'\n",
      "C:\\Users\\erikc\\Anaconda3\\lib\\site-packages\\statsmodels\\tsa\\base\\tsa_model.py:524: ValueWarning: No frequency information was provided, so inferred frequency MS will be used.\n",
      "  warnings.warn('No frequency information was'\n"
     ]
    },
    {
     "name": "stdout",
     "output_type": "stream",
     "text": [
      "                                     SARIMAX Results                                      \n",
      "==========================================================================================\n",
      "Dep. Variable:                       Hydro_energy   No. Observations:                  180\n",
      "Model:             SARIMAX(1, 0, 0)x(2, 0, 0, 12)   Log Likelihood               -1107.153\n",
      "Date:                            Thu, 02 Dec 2021   AIC                           2246.305\n",
      "Time:                                    16:19:41   BIC                           2297.393\n",
      "Sample:                                01-01-2006   HQIC                          2267.019\n",
      "                                     - 12-01-2020                                         \n",
      "Covariance Type:                              opg                                         \n",
      "==============================================================================\n",
      "                 coef    std err          z      P>|z|      [0.025      0.975]\n",
      "------------------------------------------------------------------------------\n",
      "Jan          919.6165     29.679     30.986      0.000     861.448     977.785\n",
      "Feb          790.0691     38.503     20.520      0.000     714.605     865.534\n",
      "Mar          803.3469     29.927     26.843      0.000     744.691     862.003\n",
      "Apr          613.6239     32.406     18.935      0.000     550.108     677.139\n",
      "May          540.5124     35.286     15.318      0.000     471.352     609.673\n",
      "Jun          452.7733     45.302      9.994      0.000     363.982     541.564\n",
      "Jul          494.0966     41.030     12.042      0.000     413.680     574.513\n",
      "Aug          555.4798     44.005     12.623      0.000     469.231     641.728\n",
      "Sep          618.9248     35.965     17.209      0.000     548.434     689.416\n",
      "Oct          737.8675     38.450     19.190      0.000     662.506     813.229\n",
      "Nov          824.7095     32.378     25.472      0.000     761.251     888.168\n",
      "Dec          914.6346     28.103     32.546      0.000     859.554     969.715\n",
      "ar.L1          0.4827      0.064      7.495      0.000       0.356       0.609\n",
      "ar.S.L12      -0.0472      0.080     -0.589      0.556      -0.204       0.110\n",
      "ar.S.L24       0.0122      0.096      0.127      0.899      -0.176       0.201\n",
      "sigma2      1.294e+04   1472.399      8.790      0.000    1.01e+04    1.58e+04\n",
      "===================================================================================\n",
      "Ljung-Box (L1) (Q):                   0.17   Jarque-Bera (JB):                12.06\n",
      "Prob(Q):                              0.68   Prob(JB):                         0.00\n",
      "Heteroskedasticity (H):               0.98   Skew:                            -0.56\n",
      "Prob(H) (two-sided):                  0.92   Kurtosis:                         3.61\n",
      "===================================================================================\n",
      "\n",
      "Warnings:\n",
      "[1] Covariance matrix calculated using the outer product of gradients (complex-step).\n"
     ]
    }
   ],
   "source": [
    "endog1 = uk_tv[['Hydro_energy']]\n",
    "exog1 = uk_tv[['Jan', 'Feb', 'Mar', 'Apr', 'May', 'Jun', 'Jul', 'Aug', 'Sep', 'Oct', 'Nov', 'Dec']]\n",
    "\n",
    "sarimax_tv = SARIMAX(endog1, exog1, order = (1, 0, 0), seasonal_order = (2, 0, 0, 12), m=12).fit()\n",
    "print(sarimax_tv.summary())"
   ]
  },
  {
   "cell_type": "code",
   "execution_count": 19,
   "id": "cbf8cd4f",
   "metadata": {},
   "outputs": [
    {
     "name": "stdout",
     "output_type": "stream",
     "text": [
      "                                     SARIMAX Results                                      \n",
      "==========================================================================================\n",
      "Dep. Variable:                       Hydro_energy   No. Observations:                  180\n",
      "Model:             SARIMAX(1, 0, 0)x(2, 0, 0, 12)   Log Likelihood               -1107.153\n",
      "Date:                            Thu, 02 Dec 2021   AIC                           2246.305\n",
      "Time:                                    16:19:41   BIC                           2297.393\n",
      "Sample:                                01-01-2006   HQIC                          2267.019\n",
      "                                     - 12-01-2020                                         \n",
      "Covariance Type:                              opg                                         \n",
      "==============================================================================\n",
      "                 coef    std err          z      P>|z|      [0.025      0.975]\n",
      "------------------------------------------------------------------------------\n",
      "Jan          919.6165     29.679     30.986      0.000     861.448     977.785\n",
      "Feb          790.0691     38.503     20.520      0.000     714.605     865.534\n",
      "Mar          803.3469     29.927     26.843      0.000     744.691     862.003\n",
      "Apr          613.6239     32.406     18.935      0.000     550.108     677.139\n",
      "May          540.5124     35.286     15.318      0.000     471.352     609.673\n",
      "Jun          452.7733     45.302      9.994      0.000     363.982     541.564\n",
      "Jul          494.0966     41.030     12.042      0.000     413.680     574.513\n",
      "Aug          555.4798     44.005     12.623      0.000     469.231     641.728\n",
      "Sep          618.9248     35.965     17.209      0.000     548.434     689.416\n",
      "Oct          737.8675     38.450     19.190      0.000     662.506     813.229\n",
      "Nov          824.7095     32.378     25.472      0.000     761.251     888.168\n",
      "Dec          914.6346     28.103     32.546      0.000     859.554     969.715\n",
      "ar.L1          0.4827      0.064      7.495      0.000       0.356       0.609\n",
      "ar.S.L12      -0.0472      0.080     -0.589      0.556      -0.204       0.110\n",
      "ar.S.L24       0.0122      0.096      0.127      0.899      -0.176       0.201\n",
      "sigma2      1.294e+04   1472.399      8.790      0.000    1.01e+04    1.58e+04\n",
      "===================================================================================\n",
      "Ljung-Box (L1) (Q):                   0.17   Jarque-Bera (JB):                12.06\n",
      "Prob(Q):                              0.68   Prob(JB):                         0.00\n",
      "Heteroskedasticity (H):               0.98   Skew:                            -0.56\n",
      "Prob(H) (two-sided):                  0.92   Kurtosis:                         3.61\n",
      "===================================================================================\n",
      "\n",
      "Warnings:\n",
      "[1] Covariance matrix calculated using the outer product of gradients (complex-step).\n"
     ]
    }
   ],
   "source": [
    "endog_f = uk[['Hydro_energy']]\n",
    "exog_f = uk[['Jan', 'Feb', 'Mar', 'Apr', 'May', 'Jun', 'Jul', 'Aug', 'Sep', 'Oct', 'Nov', 'Dec']]\n",
    "\n",
    "sarimax_full = SARIMAX(endog_f, exog_f, order = (1, 0, 0), seasonal_order = (2, 0, 0, 12), m=12).fit()\n",
    "print(sarimax_tv.summary())"
   ]
  },
  {
   "cell_type": "markdown",
   "id": "f15c924e",
   "metadata": {},
   "source": [
    "#### Get forecasts from both SARIMAX"
   ]
  },
  {
   "cell_type": "code",
   "execution_count": 20,
   "id": "59d9389f",
   "metadata": {},
   "outputs": [
    {
     "name": "stdout",
     "output_type": "stream",
     "text": [
      "            predicted_mean\n",
      "2019-12-01      782.546563\n",
      "2020-01-01      717.904424\n",
      "2020-02-01      767.117955\n",
      "2020-03-01      593.999945\n",
      "2020-04-01      552.972228\n",
      "2020-05-01      466.956027\n",
      "2020-06-01      485.584739\n",
      "2020-07-01      564.869498\n",
      "2020-08-01      622.179006\n",
      "2020-09-01      734.543270\n",
      "2020-10-01      818.748608\n",
      "2020-11-01      921.639170\n",
      "2020-12-01      930.216627\n"
     ]
    }
   ],
   "source": [
    "fore_exog = sarimax.forecast(steps=167, exog=exog)\n",
    "\n",
    "y_hat_sarimax = pd.DataFrame(fore_exog)\n",
    "\n",
    "y_hat_sarimax = y_hat_sarimax[0:13]\n",
    "\n",
    "print(y_hat_sarimax)"
   ]
  },
  {
   "cell_type": "code",
   "execution_count": 21,
   "id": "73ef806f",
   "metadata": {},
   "outputs": [
    {
     "name": "stdout",
     "output_type": "stream",
     "text": [
      "            predicted_mean\n",
      "2021-01-01      898.331251\n",
      "2021-02-01      773.134349\n",
      "2021-03-01      796.657610\n",
      "2021-04-01      615.414226\n",
      "2021-05-01      543.179507\n"
     ]
    }
   ],
   "source": [
    "fore_exog_tv = sarimax_tv.forecast(steps=167, exog=exog)\n",
    "\n",
    "y_hat_sarimax_tv = pd.DataFrame(fore_exog_tv)\n",
    "\n",
    "y_hat_sarimax_tv = y_hat_sarimax_tv[0:5]\n",
    "\n",
    "print(y_hat_sarimax_tv)"
   ]
  },
  {
   "cell_type": "code",
   "execution_count": 22,
   "id": "605f8266",
   "metadata": {},
   "outputs": [],
   "source": [
    "error_sarimax_full = uk_test['Hydro_energy'] - y_hat_sarimax_tv['predicted_mean']"
   ]
  },
  {
   "cell_type": "code",
   "execution_count": 23,
   "id": "84e9c65a",
   "metadata": {},
   "outputs": [
    {
     "name": "stdout",
     "output_type": "stream",
     "text": [
      "73.24624604693423\n",
      "0.10125396305763026\n"
     ]
    }
   ],
   "source": [
    "print(np.mean(abs(error_sarimax_full)))\n",
    "print(np.mean(abs(error_sarimax_full)/abs(uk_test['Hydro_energy'])))"
   ]
  },
  {
   "cell_type": "code",
   "execution_count": 24,
   "id": "102c598b",
   "metadata": {},
   "outputs": [
    {
     "name": "stdout",
     "output_type": "stream",
     "text": [
      "     predicted_mean\n",
      "184      947.045226\n",
      "185      803.104416\n",
      "186      807.167993\n",
      "187      631.540463\n",
      "188      550.873552\n",
      "189      456.704713\n"
     ]
    }
   ],
   "source": [
    "fore_exog_full = sarimax_full.forecast(steps=184, exog=exog_f)\n",
    "\n",
    "y_hat_sarimax_full = pd.DataFrame(fore_exog_full)\n",
    "\n",
    "y_hat_sarimax_full = y_hat_sarimax_full[0:6]\n",
    "\n",
    "print(y_hat_sarimax_full)"
   ]
  },
  {
   "cell_type": "code",
   "execution_count": 25,
   "id": "a728a81b",
   "metadata": {},
   "outputs": [
    {
     "name": "stdout",
     "output_type": "stream",
     "text": [
      "2021-01-01    891.045064\n",
      "2021-02-01    764.877414\n",
      "2021-03-01    779.519305\n",
      "2021-04-01    595.149458\n",
      "2021-05-01    525.383521\n",
      "Freq: MS, dtype: float64\n"
     ]
    }
   ],
   "source": [
    "comb = (y_hat_sarimax_tv['predicted_mean'] + y_hat_HWES_tv)/2 \n",
    "print(comb)"
   ]
  },
  {
   "cell_type": "code",
   "execution_count": 26,
   "id": "a1820ccc",
   "metadata": {},
   "outputs": [],
   "source": [
    "comb_err = uk_test['Hydro_energy'] - comb"
   ]
  },
  {
   "cell_type": "code",
   "execution_count": 27,
   "id": "b81e7991",
   "metadata": {},
   "outputs": [
    {
     "name": "stdout",
     "output_type": "stream",
     "text": [
      "76.60792887207063\n",
      "0.10596769205407625\n"
     ]
    }
   ],
   "source": [
    "print(np.mean(abs(comb_err)))\n",
    "print(np.mean(abs(comb_err)/abs(uk_test['Hydro_energy'])))"
   ]
  },
  {
   "cell_type": "markdown",
   "id": "468179f6",
   "metadata": {},
   "source": [
    "#### Neural Network Modeling"
   ]
  },
  {
   "cell_type": "markdown",
   "id": "4ea8df47",
   "metadata": {},
   "source": [
    "#### Build the variables you need for the neural network"
   ]
  },
  {
   "cell_type": "code",
   "execution_count": 28,
   "id": "660b6b15",
   "metadata": {},
   "outputs": [
    {
     "name": "stdout",
     "output_type": "stream",
     "text": [
      "            Hydro_energy Month  Jan  Feb  Mar  Apr  May  Jun  Jul  Aug  Sep  \\\n",
      "Date                                                                          \n",
      "2008-01-01      1073.177   Jan  1.0  0.0  0.0  0.0  0.0  0.0  0.0  0.0  0.0   \n",
      "2008-02-01       908.278   Feb  0.0  1.0  0.0  0.0  0.0  0.0  0.0  0.0  0.0   \n",
      "2008-03-01       942.656   Mar  0.0  0.0  1.0  0.0  0.0  0.0  0.0  0.0  0.0   \n",
      "2008-04-01       779.457   Apr  0.0  0.0  0.0  1.0  0.0  0.0  0.0  0.0  0.0   \n",
      "2008-05-01       544.375   May  0.0  0.0  0.0  0.0  1.0  0.0  0.0  0.0  0.0   \n",
      "\n",
      "            Oct  Nov  Dec      Lag1    s_lag1   s_lag2  \n",
      "Date                                                    \n",
      "2008-01-01  0.0  0.0  0.0   930.103  1080.437  841.074  \n",
      "2008-02-01  0.0  0.0  0.0  1073.177   784.808  632.962  \n",
      "2008-03-01  0.0  0.0  0.0   908.278   955.707  672.459  \n",
      "2008-04-01  0.0  0.0  0.0   942.656   547.182  617.138  \n",
      "2008-05-01  0.0  0.0  0.0   779.457   618.498  623.144  \n"
     ]
    },
    {
     "name": "stderr",
     "output_type": "stream",
     "text": [
      "<ipython-input-28-f6958cb08617>:1: SettingWithCopyWarning: \n",
      "A value is trying to be set on a copy of a slice from a DataFrame.\n",
      "Try using .loc[row_indexer,col_indexer] = value instead\n",
      "\n",
      "See the caveats in the documentation: https://pandas.pydata.org/pandas-docs/stable/user_guide/indexing.html#returning-a-view-versus-a-copy\n",
      "  uk_train['Lag1'] = uk_train['Hydro_energy'].shift(periods=1)\n",
      "<ipython-input-28-f6958cb08617>:2: SettingWithCopyWarning: \n",
      "A value is trying to be set on a copy of a slice from a DataFrame.\n",
      "Try using .loc[row_indexer,col_indexer] = value instead\n",
      "\n",
      "See the caveats in the documentation: https://pandas.pydata.org/pandas-docs/stable/user_guide/indexing.html#returning-a-view-versus-a-copy\n",
      "  uk_train['s_lag1'] = uk_train['Hydro_energy'].shift(periods=12)\n",
      "<ipython-input-28-f6958cb08617>:3: SettingWithCopyWarning: \n",
      "A value is trying to be set on a copy of a slice from a DataFrame.\n",
      "Try using .loc[row_indexer,col_indexer] = value instead\n",
      "\n",
      "See the caveats in the documentation: https://pandas.pydata.org/pandas-docs/stable/user_guide/indexing.html#returning-a-view-versus-a-copy\n",
      "  uk_train['s_lag2'] = uk_train['Hydro_energy'].shift(periods=24)\n"
     ]
    }
   ],
   "source": [
    "uk_train['Lag1'] = uk_train['Hydro_energy'].shift(periods=1)\n",
    "uk_train['s_lag1'] = uk_train['Hydro_energy'].shift(periods=12)\n",
    "uk_train['s_lag2'] = uk_train['Hydro_energy'].shift(periods=24)\n",
    "\n",
    "uk_train2 = uk_train.dropna()\n",
    "\n",
    "print(uk_train2.head())"
   ]
  },
  {
   "cell_type": "markdown",
   "id": "19858e22",
   "metadata": {},
   "source": [
    "#### Make x and y variables as well as a validation dataset"
   ]
  },
  {
   "cell_type": "code",
   "execution_count": 29,
   "id": "b5c937ec",
   "metadata": {},
   "outputs": [],
   "source": [
    "y = uk_train2[['Hydro_energy']]\n",
    "x = uk_train2.drop(['Hydro_energy', 'Month'], axis=1)\n",
    "\n",
    "uk_valid2 = uk[167:180]"
   ]
  },
  {
   "cell_type": "markdown",
   "id": "a38fbc79",
   "metadata": {},
   "source": [
    "#### Build the neural network model for use with data"
   ]
  },
  {
   "cell_type": "code",
   "execution_count": 30,
   "id": "94b46f5b",
   "metadata": {},
   "outputs": [],
   "source": [
    "clf = MLPRegressor(solver='lbfgs', alpha=1e-5, hidden_layer_sizes=8, random_state=1)"
   ]
  },
  {
   "cell_type": "markdown",
   "id": "2230f215",
   "metadata": {},
   "source": [
    "#### Fit the model to the data"
   ]
  },
  {
   "cell_type": "code",
   "execution_count": 31,
   "id": "17ec1b7c",
   "metadata": {},
   "outputs": [
    {
     "name": "stderr",
     "output_type": "stream",
     "text": [
      "C:\\Users\\erikc\\Anaconda3\\lib\\site-packages\\sklearn\\utils\\validation.py:63: DataConversionWarning: A column-vector y was passed when a 1d array was expected. Please change the shape of y to (n_samples, ), for example using ravel().\n",
      "  return f(*args, **kwargs)\n",
      "C:\\Users\\erikc\\Anaconda3\\lib\\site-packages\\sklearn\\neural_network\\_multilayer_perceptron.py:500: ConvergenceWarning: lbfgs failed to converge (status=1):\n",
      "STOP: TOTAL NO. of ITERATIONS REACHED LIMIT.\n",
      "\n",
      "Increase the number of iterations (max_iter) or scale the data as shown in:\n",
      "    https://scikit-learn.org/stable/modules/preprocessing.html\n",
      "  self.n_iter_ = _check_optimize_result(\"lbfgs\", opt_res, self.max_iter)\n"
     ]
    }
   ],
   "source": [
    "o = clf.fit(x,y)"
   ]
  },
  {
   "cell_type": "markdown",
   "id": "97cc78f9",
   "metadata": {},
   "source": [
    "#### Get parameters and rename the column as predicted"
   ]
  },
  {
   "cell_type": "code",
   "execution_count": 32,
   "id": "f74b61b8",
   "metadata": {},
   "outputs": [
    {
     "name": "stdout",
     "output_type": "stream",
     "text": [
      "{'activation': 'relu', 'alpha': 1e-05, 'batch_size': 'auto', 'beta_1': 0.9, 'beta_2': 0.999, 'early_stopping': False, 'epsilon': 1e-08, 'hidden_layer_sizes': 8, 'learning_rate': 'constant', 'learning_rate_init': 0.001, 'max_fun': 15000, 'max_iter': 200, 'momentum': 0.9, 'n_iter_no_change': 10, 'nesterovs_momentum': True, 'power_t': 0.5, 'random_state': 1, 'shuffle': True, 'solver': 'lbfgs', 'tol': 0.0001, 'validation_fraction': 0.1, 'verbose': False, 'warm_start': False}\n"
     ]
    }
   ],
   "source": [
    "print(o.get_params())\n",
    "\n",
    "z = pd.DataFrame(o.predict(x), columns=['predicted'])"
   ]
  },
  {
   "cell_type": "markdown",
   "id": "d16a7683",
   "metadata": {},
   "source": [
    "#### Create dataframe of predicted versus actual"
   ]
  },
  {
   "cell_type": "code",
   "execution_count": 33,
   "id": "1087f4d1",
   "metadata": {},
   "outputs": [
    {
     "name": "stdout",
     "output_type": "stream",
     "text": [
      "<class 'pandas.core.frame.DataFrame'>\n",
      "RangeIndex: 143 entries, 25 to 167\n",
      "Data columns (total 2 columns):\n",
      " #   Column        Non-Null Count  Dtype  \n",
      "---  ------        --------------  -----  \n",
      " 0   Date          143 non-null    object \n",
      " 1   Hydro_energy  143 non-null    float64\n",
      "dtypes: float64(1), object(1)\n",
      "memory usage: 2.4+ KB\n",
      "None\n",
      "      predicted  Hydro_energy\n",
      "0    924.763214       841.074\n",
      "1    866.387193       632.962\n",
      "2    848.704966       672.459\n",
      "3    703.740703       617.138\n",
      "4    619.123494       623.144\n",
      "..          ...           ...\n",
      "138  490.982871       536.857\n",
      "139  544.490246       647.853\n",
      "140  650.247606       720.220\n",
      "141  791.965060       890.102\n",
      "142  875.044816       854.095\n",
      "\n",
      "[143 rows x 2 columns]\n"
     ]
    }
   ],
   "source": [
    "uk2_a = uk2[25:168]\n",
    "\n",
    "print(uk2_a.info())\n",
    "\n",
    "y_1 = uk2[['Hydro_energy']]\n",
    "\n",
    "u = pd.concat([z, y_1], join='inner', axis=1)\n",
    "\n",
    "print(u)"
   ]
  },
  {
   "cell_type": "markdown",
   "id": "dcd19c11",
   "metadata": {},
   "source": [
    "#### Create error dataframe"
   ]
  },
  {
   "cell_type": "code",
   "execution_count": 34,
   "id": "c0713ed4",
   "metadata": {},
   "outputs": [
    {
     "name": "stdout",
     "output_type": "stream",
     "text": [
      "0      -83.689214\n",
      "1     -233.425193\n",
      "2     -176.245966\n",
      "3      -86.602703\n",
      "4        4.020506\n",
      "          ...    \n",
      "138     45.874129\n",
      "139    103.362754\n",
      "140     69.972394\n",
      "141     98.136940\n",
      "142    -20.949816\n",
      "Length: 143, dtype: float64\n"
     ]
    }
   ],
   "source": [
    "err_nn = u['Hydro_energy'] - u['predicted']\n",
    "\n",
    "print(err_nn)"
   ]
  },
  {
   "cell_type": "markdown",
   "id": "4f681c77",
   "metadata": {},
   "source": [
    "#### Caluclate MAE and MAPE"
   ]
  },
  {
   "cell_type": "code",
   "execution_count": 35,
   "id": "99f008a5",
   "metadata": {},
   "outputs": [
    {
     "name": "stdout",
     "output_type": "stream",
     "text": [
      "123.40622202319265\n",
      "0.19814937770240953\n"
     ]
    }
   ],
   "source": [
    "print(np.mean(abs(err_nn)))\n",
    "print(np.mean(abs(err_nn)/abs(uk2['Hydro_energy'])))"
   ]
  }
 ],
 "metadata": {
  "kernelspec": {
   "display_name": "Python 3",
   "language": "python",
   "name": "python3"
  },
  "language_info": {
   "codemirror_mode": {
    "name": "ipython",
    "version": 3
   },
   "file_extension": ".py",
   "mimetype": "text/x-python",
   "name": "python",
   "nbconvert_exporter": "python",
   "pygments_lexer": "ipython3",
   "version": "3.8.8"
  }
 },
 "nbformat": 4,
 "nbformat_minor": 5
}
